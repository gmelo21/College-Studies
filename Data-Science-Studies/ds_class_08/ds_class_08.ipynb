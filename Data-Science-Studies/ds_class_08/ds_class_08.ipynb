{
  "nbformat": 4,
  "nbformat_minor": 0,
  "metadata": {
    "colab": {
      "provenance": []
    },
    "kernelspec": {
      "name": "python3",
      "display_name": "Python 3"
    },
    "language_info": {
      "name": "python"
    }
  },
  "cells": [
    {
      "cell_type": "code",
      "execution_count": 2,
      "metadata": {
        "id": "21x4BOmjn_vU",
        "colab": {
          "base_uri": "https://localhost:8080/",
          "height": 206
        },
        "outputId": "5a921b6a-e599-4f80-d35e-59955fae1997"
      },
      "outputs": [
        {
          "output_type": "execute_result",
          "data": {
            "text/plain": [
              "   id sexo  idade  peso  altura  hdl_antes  hdl_depois  ldl_antes  ldl_depois\n",
              "0   1    M     51  72.1    1.91       47.3        44.9      127.3       122.0\n",
              "1   2    F     58  55.4    1.72       59.5        67.1      159.9       145.4\n",
              "2   3    M     68  82.6    1.64       47.5        41.7      134.5       120.8\n",
              "3   4    M     71  85.9    1.87       63.0        71.7      139.5       124.7\n",
              "4   5    M     51  78.8    1.80       43.2        39.6      136.5       141.2"
            ],
            "text/html": [
              "\n",
              "  <div id=\"df-51731b9a-92a4-4f34-977a-64d25a0e9ca0\" class=\"colab-df-container\">\n",
              "    <div>\n",
              "<style scoped>\n",
              "    .dataframe tbody tr th:only-of-type {\n",
              "        vertical-align: middle;\n",
              "    }\n",
              "\n",
              "    .dataframe tbody tr th {\n",
              "        vertical-align: top;\n",
              "    }\n",
              "\n",
              "    .dataframe thead th {\n",
              "        text-align: right;\n",
              "    }\n",
              "</style>\n",
              "<table border=\"1\" class=\"dataframe\">\n",
              "  <thead>\n",
              "    <tr style=\"text-align: right;\">\n",
              "      <th></th>\n",
              "      <th>id</th>\n",
              "      <th>sexo</th>\n",
              "      <th>idade</th>\n",
              "      <th>peso</th>\n",
              "      <th>altura</th>\n",
              "      <th>hdl_antes</th>\n",
              "      <th>hdl_depois</th>\n",
              "      <th>ldl_antes</th>\n",
              "      <th>ldl_depois</th>\n",
              "    </tr>\n",
              "  </thead>\n",
              "  <tbody>\n",
              "    <tr>\n",
              "      <th>0</th>\n",
              "      <td>1</td>\n",
              "      <td>M</td>\n",
              "      <td>51</td>\n",
              "      <td>72.1</td>\n",
              "      <td>1.91</td>\n",
              "      <td>47.3</td>\n",
              "      <td>44.9</td>\n",
              "      <td>127.3</td>\n",
              "      <td>122.0</td>\n",
              "    </tr>\n",
              "    <tr>\n",
              "      <th>1</th>\n",
              "      <td>2</td>\n",
              "      <td>F</td>\n",
              "      <td>58</td>\n",
              "      <td>55.4</td>\n",
              "      <td>1.72</td>\n",
              "      <td>59.5</td>\n",
              "      <td>67.1</td>\n",
              "      <td>159.9</td>\n",
              "      <td>145.4</td>\n",
              "    </tr>\n",
              "    <tr>\n",
              "      <th>2</th>\n",
              "      <td>3</td>\n",
              "      <td>M</td>\n",
              "      <td>68</td>\n",
              "      <td>82.6</td>\n",
              "      <td>1.64</td>\n",
              "      <td>47.5</td>\n",
              "      <td>41.7</td>\n",
              "      <td>134.5</td>\n",
              "      <td>120.8</td>\n",
              "    </tr>\n",
              "    <tr>\n",
              "      <th>3</th>\n",
              "      <td>4</td>\n",
              "      <td>M</td>\n",
              "      <td>71</td>\n",
              "      <td>85.9</td>\n",
              "      <td>1.87</td>\n",
              "      <td>63.0</td>\n",
              "      <td>71.7</td>\n",
              "      <td>139.5</td>\n",
              "      <td>124.7</td>\n",
              "    </tr>\n",
              "    <tr>\n",
              "      <th>4</th>\n",
              "      <td>5</td>\n",
              "      <td>M</td>\n",
              "      <td>51</td>\n",
              "      <td>78.8</td>\n",
              "      <td>1.80</td>\n",
              "      <td>43.2</td>\n",
              "      <td>39.6</td>\n",
              "      <td>136.5</td>\n",
              "      <td>141.2</td>\n",
              "    </tr>\n",
              "  </tbody>\n",
              "</table>\n",
              "</div>\n",
              "    <div class=\"colab-df-buttons\">\n",
              "\n",
              "  <div class=\"colab-df-container\">\n",
              "    <button class=\"colab-df-convert\" onclick=\"convertToInteractive('df-51731b9a-92a4-4f34-977a-64d25a0e9ca0')\"\n",
              "            title=\"Convert this dataframe to an interactive table.\"\n",
              "            style=\"display:none;\">\n",
              "\n",
              "  <svg xmlns=\"http://www.w3.org/2000/svg\" height=\"24px\" viewBox=\"0 -960 960 960\">\n",
              "    <path d=\"M120-120v-720h720v720H120Zm60-500h600v-160H180v160Zm220 220h160v-160H400v160Zm0 220h160v-160H400v160ZM180-400h160v-160H180v160Zm440 0h160v-160H620v160ZM180-180h160v-160H180v160Zm440 0h160v-160H620v160Z\"/>\n",
              "  </svg>\n",
              "    </button>\n",
              "\n",
              "  <style>\n",
              "    .colab-df-container {\n",
              "      display:flex;\n",
              "      gap: 12px;\n",
              "    }\n",
              "\n",
              "    .colab-df-convert {\n",
              "      background-color: #E8F0FE;\n",
              "      border: none;\n",
              "      border-radius: 50%;\n",
              "      cursor: pointer;\n",
              "      display: none;\n",
              "      fill: #1967D2;\n",
              "      height: 32px;\n",
              "      padding: 0 0 0 0;\n",
              "      width: 32px;\n",
              "    }\n",
              "\n",
              "    .colab-df-convert:hover {\n",
              "      background-color: #E2EBFA;\n",
              "      box-shadow: 0px 1px 2px rgba(60, 64, 67, 0.3), 0px 1px 3px 1px rgba(60, 64, 67, 0.15);\n",
              "      fill: #174EA6;\n",
              "    }\n",
              "\n",
              "    .colab-df-buttons div {\n",
              "      margin-bottom: 4px;\n",
              "    }\n",
              "\n",
              "    [theme=dark] .colab-df-convert {\n",
              "      background-color: #3B4455;\n",
              "      fill: #D2E3FC;\n",
              "    }\n",
              "\n",
              "    [theme=dark] .colab-df-convert:hover {\n",
              "      background-color: #434B5C;\n",
              "      box-shadow: 0px 1px 3px 1px rgba(0, 0, 0, 0.15);\n",
              "      filter: drop-shadow(0px 1px 2px rgba(0, 0, 0, 0.3));\n",
              "      fill: #FFFFFF;\n",
              "    }\n",
              "  </style>\n",
              "\n",
              "    <script>\n",
              "      const buttonEl =\n",
              "        document.querySelector('#df-51731b9a-92a4-4f34-977a-64d25a0e9ca0 button.colab-df-convert');\n",
              "      buttonEl.style.display =\n",
              "        google.colab.kernel.accessAllowed ? 'block' : 'none';\n",
              "\n",
              "      async function convertToInteractive(key) {\n",
              "        const element = document.querySelector('#df-51731b9a-92a4-4f34-977a-64d25a0e9ca0');\n",
              "        const dataTable =\n",
              "          await google.colab.kernel.invokeFunction('convertToInteractive',\n",
              "                                                    [key], {});\n",
              "        if (!dataTable) return;\n",
              "\n",
              "        const docLinkHtml = 'Like what you see? Visit the ' +\n",
              "          '<a target=\"_blank\" href=https://colab.research.google.com/notebooks/data_table.ipynb>data table notebook</a>'\n",
              "          + ' to learn more about interactive tables.';\n",
              "        element.innerHTML = '';\n",
              "        dataTable['output_type'] = 'display_data';\n",
              "        await google.colab.output.renderOutput(dataTable, element);\n",
              "        const docLink = document.createElement('div');\n",
              "        docLink.innerHTML = docLinkHtml;\n",
              "        element.appendChild(docLink);\n",
              "      }\n",
              "    </script>\n",
              "  </div>\n",
              "\n",
              "\n",
              "    <div id=\"df-3822b3b2-a58c-409d-9552-77f4a5a5a4ec\">\n",
              "      <button class=\"colab-df-quickchart\" onclick=\"quickchart('df-3822b3b2-a58c-409d-9552-77f4a5a5a4ec')\"\n",
              "                title=\"Suggest charts\"\n",
              "                style=\"display:none;\">\n",
              "\n",
              "<svg xmlns=\"http://www.w3.org/2000/svg\" height=\"24px\"viewBox=\"0 0 24 24\"\n",
              "     width=\"24px\">\n",
              "    <g>\n",
              "        <path d=\"M19 3H5c-1.1 0-2 .9-2 2v14c0 1.1.9 2 2 2h14c1.1 0 2-.9 2-2V5c0-1.1-.9-2-2-2zM9 17H7v-7h2v7zm4 0h-2V7h2v10zm4 0h-2v-4h2v4z\"/>\n",
              "    </g>\n",
              "</svg>\n",
              "      </button>\n",
              "\n",
              "<style>\n",
              "  .colab-df-quickchart {\n",
              "      --bg-color: #E8F0FE;\n",
              "      --fill-color: #1967D2;\n",
              "      --hover-bg-color: #E2EBFA;\n",
              "      --hover-fill-color: #174EA6;\n",
              "      --disabled-fill-color: #AAA;\n",
              "      --disabled-bg-color: #DDD;\n",
              "  }\n",
              "\n",
              "  [theme=dark] .colab-df-quickchart {\n",
              "      --bg-color: #3B4455;\n",
              "      --fill-color: #D2E3FC;\n",
              "      --hover-bg-color: #434B5C;\n",
              "      --hover-fill-color: #FFFFFF;\n",
              "      --disabled-bg-color: #3B4455;\n",
              "      --disabled-fill-color: #666;\n",
              "  }\n",
              "\n",
              "  .colab-df-quickchart {\n",
              "    background-color: var(--bg-color);\n",
              "    border: none;\n",
              "    border-radius: 50%;\n",
              "    cursor: pointer;\n",
              "    display: none;\n",
              "    fill: var(--fill-color);\n",
              "    height: 32px;\n",
              "    padding: 0;\n",
              "    width: 32px;\n",
              "  }\n",
              "\n",
              "  .colab-df-quickchart:hover {\n",
              "    background-color: var(--hover-bg-color);\n",
              "    box-shadow: 0 1px 2px rgba(60, 64, 67, 0.3), 0 1px 3px 1px rgba(60, 64, 67, 0.15);\n",
              "    fill: var(--button-hover-fill-color);\n",
              "  }\n",
              "\n",
              "  .colab-df-quickchart-complete:disabled,\n",
              "  .colab-df-quickchart-complete:disabled:hover {\n",
              "    background-color: var(--disabled-bg-color);\n",
              "    fill: var(--disabled-fill-color);\n",
              "    box-shadow: none;\n",
              "  }\n",
              "\n",
              "  .colab-df-spinner {\n",
              "    border: 2px solid var(--fill-color);\n",
              "    border-color: transparent;\n",
              "    border-bottom-color: var(--fill-color);\n",
              "    animation:\n",
              "      spin 1s steps(1) infinite;\n",
              "  }\n",
              "\n",
              "  @keyframes spin {\n",
              "    0% {\n",
              "      border-color: transparent;\n",
              "      border-bottom-color: var(--fill-color);\n",
              "      border-left-color: var(--fill-color);\n",
              "    }\n",
              "    20% {\n",
              "      border-color: transparent;\n",
              "      border-left-color: var(--fill-color);\n",
              "      border-top-color: var(--fill-color);\n",
              "    }\n",
              "    30% {\n",
              "      border-color: transparent;\n",
              "      border-left-color: var(--fill-color);\n",
              "      border-top-color: var(--fill-color);\n",
              "      border-right-color: var(--fill-color);\n",
              "    }\n",
              "    40% {\n",
              "      border-color: transparent;\n",
              "      border-right-color: var(--fill-color);\n",
              "      border-top-color: var(--fill-color);\n",
              "    }\n",
              "    60% {\n",
              "      border-color: transparent;\n",
              "      border-right-color: var(--fill-color);\n",
              "    }\n",
              "    80% {\n",
              "      border-color: transparent;\n",
              "      border-right-color: var(--fill-color);\n",
              "      border-bottom-color: var(--fill-color);\n",
              "    }\n",
              "    90% {\n",
              "      border-color: transparent;\n",
              "      border-bottom-color: var(--fill-color);\n",
              "    }\n",
              "  }\n",
              "</style>\n",
              "\n",
              "      <script>\n",
              "        async function quickchart(key) {\n",
              "          const quickchartButtonEl =\n",
              "            document.querySelector('#' + key + ' button');\n",
              "          quickchartButtonEl.disabled = true;  // To prevent multiple clicks.\n",
              "          quickchartButtonEl.classList.add('colab-df-spinner');\n",
              "          try {\n",
              "            const charts = await google.colab.kernel.invokeFunction(\n",
              "                'suggestCharts', [key], {});\n",
              "          } catch (error) {\n",
              "            console.error('Error during call to suggestCharts:', error);\n",
              "          }\n",
              "          quickchartButtonEl.classList.remove('colab-df-spinner');\n",
              "          quickchartButtonEl.classList.add('colab-df-quickchart-complete');\n",
              "        }\n",
              "        (() => {\n",
              "          let quickchartButtonEl =\n",
              "            document.querySelector('#df-3822b3b2-a58c-409d-9552-77f4a5a5a4ec button');\n",
              "          quickchartButtonEl.style.display =\n",
              "            google.colab.kernel.accessAllowed ? 'block' : 'none';\n",
              "        })();\n",
              "      </script>\n",
              "    </div>\n",
              "\n",
              "    </div>\n",
              "  </div>\n"
            ],
            "application/vnd.google.colaboratory.intrinsic+json": {
              "type": "dataframe",
              "variable_name": "df",
              "summary": "{\n  \"name\": \"df\",\n  \"rows\": 200,\n  \"fields\": [\n    {\n      \"column\": \"id\",\n      \"properties\": {\n        \"dtype\": \"number\",\n        \"std\": 57,\n        \"min\": 1,\n        \"max\": 200,\n        \"num_unique_values\": 200,\n        \"samples\": [\n          96,\n          16,\n          31\n        ],\n        \"semantic_type\": \"\",\n        \"description\": \"\"\n      }\n    },\n    {\n      \"column\": \"sexo\",\n      \"properties\": {\n        \"dtype\": \"category\",\n        \"num_unique_values\": 2,\n        \"samples\": [\n          \"F\",\n          \"M\"\n        ],\n        \"semantic_type\": \"\",\n        \"description\": \"\"\n      }\n    },\n    {\n      \"column\": \"idade\",\n      \"properties\": {\n        \"dtype\": \"number\",\n        \"std\": 17,\n        \"min\": 20,\n        \"max\": 79,\n        \"num_unique_values\": 55,\n        \"samples\": [\n          20,\n          49\n        ],\n        \"semantic_type\": \"\",\n        \"description\": \"\"\n      }\n    },\n    {\n      \"column\": \"peso\",\n      \"properties\": {\n        \"dtype\": \"number\",\n        \"std\": 11.709895216435523,\n        \"min\": 44.9,\n        \"max\": 102.8,\n        \"num_unique_values\": 153,\n        \"samples\": [\n          89.8,\n          61.2\n        ],\n        \"semantic_type\": \"\",\n        \"description\": \"\"\n      }\n    },\n    {\n      \"column\": \"altura\",\n      \"properties\": {\n        \"dtype\": \"number\",\n        \"std\": 0.10555424431287597,\n        \"min\": 1.41,\n        \"max\": 1.96,\n        \"num_unique_values\": 47,\n        \"samples\": [\n          1.88,\n          1.62\n        ],\n        \"semantic_type\": \"\",\n        \"description\": \"\"\n      }\n    },\n    {\n      \"column\": \"hdl_antes\",\n      \"properties\": {\n        \"dtype\": \"number\",\n        \"std\": 10.407520280641291,\n        \"min\": 23.4,\n        \"max\": 76.4,\n        \"num_unique_values\": 149,\n        \"samples\": [\n          49.9,\n          41.3\n        ],\n        \"semantic_type\": \"\",\n        \"description\": \"\"\n      }\n    },\n    {\n      \"column\": \"hdl_depois\",\n      \"properties\": {\n        \"dtype\": \"number\",\n        \"std\": 11.378497352904297,\n        \"min\": 21.0,\n        \"max\": 83.4,\n        \"num_unique_values\": 166,\n        \"samples\": [\n          57.1,\n          56.5\n        ],\n        \"semantic_type\": \"\",\n        \"description\": \"\"\n      }\n    },\n    {\n      \"column\": \"ldl_antes\",\n      \"properties\": {\n        \"dtype\": \"number\",\n        \"std\": 19.88775082593737,\n        \"min\": 95.0,\n        \"max\": 199.3,\n        \"num_unique_values\": 178,\n        \"samples\": [\n          140.8,\n          119.4\n        ],\n        \"semantic_type\": \"\",\n        \"description\": \"\"\n      }\n    },\n    {\n      \"column\": \"ldl_depois\",\n      \"properties\": {\n        \"dtype\": \"number\",\n        \"std\": 22.314301225805384,\n        \"min\": 84.30000000000001,\n        \"max\": 201.5,\n        \"num_unique_values\": 178,\n        \"samples\": [\n          135.0,\n          110.9\n        ],\n        \"semantic_type\": \"\",\n        \"description\": \"\"\n      }\n    }\n  ]\n}"
            }
          },
          "metadata": {},
          "execution_count": 2
        }
      ],
      "source": [
        "import pandas as pd\n",
        "from scipy.stats import ttest_ind, ttest_rel, ttest_1samp, shapiro, levene\n",
        "\n",
        "df = pd.read_csv('medical.csv')\n",
        "df.head()"
      ]
    },
    {
      "cell_type": "code",
      "source": [
        "# Shapiro function\n",
        "\n",
        "def normality_result(group_name, group, alpha=0.05):\n",
        "    stat, p = shapiro(group)\n",
        "    if p < alpha:\n",
        "        return f\"{group_name} does not have a normal distribution.\"\n",
        "    else:\n",
        "        return f\"{group_name} does have a normal distribution.\""
      ],
      "metadata": {
        "id": "gB_VWVAsrKQW"
      },
      "execution_count": 12,
      "outputs": []
    },
    {
      "cell_type": "code",
      "source": [
        "# Outlier function\n",
        "\n",
        "def outlier_ratio_check(group, group_name, alpha=0.05):\n",
        "    group = group.dropna()\n",
        "    Q1 = group.quantile(0.25)\n",
        "    Q3 = group.quantile(0.75)\n",
        "    IQR = Q3 - Q1\n",
        "    lower_bound = Q1 - 1.5 * IQR\n",
        "    upper_bound = Q3 + 1.5 * IQR\n",
        "\n",
        "    outliers = group[(group < lower_bound) | (group > upper_bound)]\n",
        "    ratio = len(outliers) / len(group)\n",
        "\n",
        "    return f\"Outlier ratio for {group_name}: {ratio:.2%}.\""
      ],
      "metadata": {
        "id": "BRpR56xMxPtR"
      },
      "execution_count": 13,
      "outputs": []
    },
    {
      "cell_type": "code",
      "source": [
        "# Levene function\n",
        "\n",
        "def variance_result(group1, group2, alpha=0.05):\n",
        "    stat, p = levene(group1, group2)\n",
        "    if p < alpha:\n",
        "        return f\"The groups are not homoscedastic.\"\n",
        "    else:\n",
        "        return f\"The groups are homoscedastic.\""
      ],
      "metadata": {
        "id": "_9NeUOKsr2tz"
      },
      "execution_count": 14,
      "outputs": []
    },
    {
      "cell_type": "code",
      "source": [
        "# Ex. 1\n",
        "\n",
        "group1 = df[(df['sexo'] == 'F') & (df['idade'] > 50)]['hdl_antes']\n",
        "group2 = df[(df['sexo'] == 'F') & (df['idade'] > 50)]['hdl_depois']\n",
        "\n",
        "# Checking normality\n",
        "print(normality_result(\"Group 1\", group1))\n",
        "print(normality_result(\"Group 2\", group2))\n",
        "\n",
        "# Checking outliers\n",
        "print(outlier_ratio_check(group1, \"Group 1\"))\n",
        "print(outlier_ratio_check(group2, \"Group 2\"))\n",
        "\n",
        "# Running related test:\n",
        "t_stat, p_bilateral = ttest_rel(group2, group1)\n",
        "p_side = p_bilateral / 2 if t_stat > 0 else 1 - p_bilateral / 2\n",
        "\n",
        "alpha = 0.05\n",
        "\n",
        "if p_side < alpha:\n",
        "    result = \"Reject the null hypothesis.\"\n",
        "else:\n",
        "    result = \"Fail to reject the null hypothesis.\"\n",
        "\n",
        "print(f\"Statistic: {t_stat}, p-value: {p_side}\")\n",
        "print(result)\n"
      ],
      "metadata": {
        "colab": {
          "base_uri": "https://localhost:8080/"
        },
        "id": "5ii3LgIDh-L3",
        "outputId": "aeb1565e-83ad-4ad6-df7f-d779c8e54139"
      },
      "execution_count": 15,
      "outputs": [
        {
          "output_type": "stream",
          "name": "stdout",
          "text": [
            "Group 1 does have a normal distribution.\n",
            "Group 2 does have a normal distribution.\n",
            "Outlier ratio for Group 1: 0.00%.\n",
            "Outlier ratio for Group 2: 1.82%.\n",
            "Statistic: 5.015816208199954, p-value: 3.0303046084999733e-06\n",
            "Reject the null hypothesis.\n"
          ]
        }
      ]
    },
    {
      "cell_type": "code",
      "source": [
        "# Ex. 2\n",
        "\n",
        "group1 = df[df['sexo'] == 'F']['ldl_depois']\n",
        "group2 = df[df['sexo'] == 'M']['ldl_depois']\n",
        "\n",
        "# Checking normality:\n",
        "print(normality_result(\"Group 1\", group1))\n",
        "print(normality_result(\"Group 2\", group2))\n",
        "\n",
        "# Checking outliers\n",
        "print(outlier_ratio_check(group1, \"Group 1\"))\n",
        "print(outlier_ratio_check(group2, \"Group 2\"))\n",
        "\n",
        "# Checking variance:\n",
        "print(variance_result(group1, group2))\n",
        "\n",
        "# Running related test:\n",
        "t_stat, p_bilateral = ttest_ind(group2, group1)\n",
        "\n",
        "alpha = 0.05\n",
        "\n",
        "if p_bilateral < alpha:\n",
        "    result = \"Reject the null hypothesis.\"\n",
        "else:\n",
        "    result = \"Fail to reject the null hypothesis.\"\n",
        "\n",
        "print(f\"Statistic: {t_stat}, p-value: {p_bilateral}\")\n",
        "print(result)"
      ],
      "metadata": {
        "colab": {
          "base_uri": "https://localhost:8080/"
        },
        "id": "rMxkJ4nOkrEg",
        "outputId": "55e60c10-9fd6-4244-9cdf-309599efec55"
      },
      "execution_count": 20,
      "outputs": [
        {
          "output_type": "stream",
          "name": "stdout",
          "text": [
            "Group 1 does have a normal distribution.\n",
            "Group 2 does have a normal distribution.\n",
            "Outlier ratio for Group 1: 0.00%.\n",
            "Outlier ratio for Group 2: 0.00%.\n",
            "The groups are homoscedastic.\n",
            "Statistic: 0.7990910887047518, p-value: 0.4251951193372746\n",
            "Fail to reject the null hypothesis.\n"
          ]
        }
      ]
    },
    {
      "cell_type": "code",
      "source": [
        "# Ex. 3\n",
        "\n",
        "group1 = df[df['sexo'] == 'M']['ldl_antes']\n",
        "group2 = df[df['sexo'] == 'M']['ldl_depois']\n",
        "\n",
        "# Checking normality:\n",
        "print(normality_result(\"Group 1\", group1))\n",
        "print(normality_result(\"Group 2\", group2))\n",
        "\n",
        "# Checking outliers\n",
        "print(outlier_ratio_check(group1, \"Group 1\"))\n",
        "print(outlier_ratio_check(group2, \"Group 2\"))\n",
        "\n",
        "# Running related test:\n",
        "t_stat, p_bilateral = ttest_rel(group2, group1)\n",
        "p_side = p_bilateral / 2 if t_stat < 0 else 1 - p_bilateral / 2\n",
        "\n",
        "alpha = 0.05\n",
        "\n",
        "if p_side < alpha:\n",
        "    result = \"Reject the null hypothesis.\"\n",
        "else:\n",
        "    result = \"Fail to reject the null hypothesis.\"\n",
        "\n",
        "print(f\"Statistic: {t_stat}, p-value: {p_side}\")\n",
        "print(result)"
      ],
      "metadata": {
        "colab": {
          "base_uri": "https://localhost:8080/"
        },
        "id": "hvYf1cFbk9up",
        "outputId": "335ed73e-bf63-454f-cbe5-b791eb0fd92a"
      },
      "execution_count": 21,
      "outputs": [
        {
          "output_type": "stream",
          "name": "stdout",
          "text": [
            "Group 1 does have a normal distribution.\n",
            "Group 2 does have a normal distribution.\n",
            "Outlier ratio for Group 1: 2.00%.\n",
            "Outlier ratio for Group 2: 0.00%.\n",
            "Statistic: -6.240867055726904, p-value: 5.423082253275937e-09\n",
            "Reject the null hypothesis.\n"
          ]
        }
      ]
    },
    {
      "cell_type": "code",
      "source": [
        "# Ex. 4\n",
        "\n",
        "group1 = df[df['idade'] > 60]['hdl_antes']\n",
        "\n",
        "# Checking normality:\n",
        "print(normality_result(\"Group 1\", group1))\n",
        "\n",
        "# Checking outliers\n",
        "print(outlier_ratio_check(group1, \"Group 1\"))\n",
        "\n",
        "# Running related test:\n",
        "t_stat, p_bilateral = ttest_1samp(group1, popmean=50)\n",
        "\n",
        "alpha = 0.05\n",
        "\n",
        "if p_bilateral < alpha:\n",
        "    result = \"Reject the null hypothesis.\"\n",
        "else:\n",
        "    result = \"Fail to reject the null hypothesis.\"\n",
        "\n",
        "print(f\"Statistic: {t_stat}, p-value: {p_bilateral}\")\n",
        "print(result)"
      ],
      "metadata": {
        "colab": {
          "base_uri": "https://localhost:8080/"
        },
        "id": "x1iCO1XtnWxL",
        "outputId": "12ba77f7-96fd-406e-e4ef-b8f8101c91a7"
      },
      "execution_count": 23,
      "outputs": [
        {
          "output_type": "stream",
          "name": "stdout",
          "text": [
            "Group 1 does have a normal distribution.\n",
            "Outlier ratio for Group 1: 0.00%.\n",
            "Statistic: -0.70042587612945, p-value: 0.4862401375305343\n",
            "Fail to reject the null hypothesis.\n"
          ]
        }
      ]
    },
    {
      "cell_type": "code",
      "source": [
        "# Ex. 5\n",
        "\n",
        "group1 = df[df['peso'] > 90]['hdl_antes']\n",
        "group2 = df[df['peso'] > 90]['hdl_depois']\n",
        "\n",
        "# Checking normality:\n",
        "print(normality_result(\"Group 1\", group1))\n",
        "print(normality_result(\"Group 2\", group2))\n",
        "\n",
        "# Checking outliers\n",
        "print(outlier_ratio_check(group1, \"Group 1\"))\n",
        "print(outlier_ratio_check(group2, \"Group 2\"))\n",
        "\n",
        "# Running related test:\n",
        "t_stat, p_bilateral = ttest_rel(group2, group1)\n",
        "p_side = p_bilateral / 2 if t_stat < 0 else 1 - p_bilateral / 2\n",
        "\n",
        "alpha = 0.05\n",
        "\n",
        "if p_side < alpha:\n",
        "    result = \"Reject the null hypothesis.\"\n",
        "else:\n",
        "    result = \"Fail to reject the null hypothesis.\"\n",
        "\n",
        "print(f\"Statistic: {t_stat}, p-value: {p_side}\")\n",
        "print(result)"
      ],
      "metadata": {
        "colab": {
          "base_uri": "https://localhost:8080/"
        },
        "id": "3m_RVZCrn5GU",
        "outputId": "dc73f719-067a-4e35-ee56-fe0ab0e9ade5"
      },
      "execution_count": 24,
      "outputs": [
        {
          "output_type": "stream",
          "name": "stdout",
          "text": [
            "Group 1 does have a normal distribution.\n",
            "Group 2 does have a normal distribution.\n",
            "Outlier ratio for Group 1: 0.00%.\n",
            "Outlier ratio for Group 2: 0.00%.\n",
            "Statistic: 2.813849772652335, p-value: 0.9898753281477018\n",
            "Fail to reject the null hypothesis.\n"
          ]
        }
      ]
    },
    {
      "cell_type": "code",
      "source": [
        "# Ex. 6\n",
        "\n",
        "group1 = df[(df['sexo'] == 'M') & (df['idade'] < 40)]['hdl_antes']\n",
        "group2 = df[(df['sexo'] == 'M') & (df['idade'] < 40)]['hdl_depois']\n",
        "\n",
        "# Checking normality:\n",
        "print(normality_result(\"Group 1\", group1))\n",
        "print(normality_result(\"Group 2\", group2))\n",
        "\n",
        "# Checking outliers\n",
        "print(outlier_ratio_check(group1, \"Group 1\"))\n",
        "print(outlier_ratio_check(group2, \"Group 2\"))\n",
        "\n",
        "# Running related test:\n",
        "t_stat, p_bilateral = ttest_rel(group2, group1)\n",
        "p_side = p_bilateral / 2 if t_stat > 0 else 1 - p_bilateral / 2\n",
        "\n",
        "alpha = 0.05\n",
        "\n",
        "if p_side < alpha:\n",
        "    result = \"Reject the null hypothesis.\"\n",
        "else:\n",
        "    result = \"Fail to reject the null hypothesis.\"\n",
        "\n",
        "print(f\"Statistic: {t_stat}, p-value: {p_side}\")\n",
        "print(result)"
      ],
      "metadata": {
        "colab": {
          "base_uri": "https://localhost:8080/"
        },
        "id": "5pTxEhZYo6Gy",
        "outputId": "0a6ff309-ae7c-4a37-8a45-9a59250ee92b"
      },
      "execution_count": 25,
      "outputs": [
        {
          "output_type": "stream",
          "name": "stdout",
          "text": [
            "Group 1 does have a normal distribution.\n",
            "Group 2 does have a normal distribution.\n",
            "Outlier ratio for Group 1: 0.00%.\n",
            "Outlier ratio for Group 2: 0.00%.\n",
            "Statistic: 4.9187168237899925, p-value: 1.7318079760548178e-05\n",
            "Reject the null hypothesis.\n"
          ]
        }
      ]
    },
    {
      "cell_type": "code",
      "source": [
        "# Ex. 7\n",
        "\n",
        "group1 = df[df['idade'] > 65]['ldl_depois']\n",
        "\n",
        "# Checking normality:\n",
        "print(normality_result(\"Group 1\", group1))\n",
        "\n",
        "# Checking outliers\n",
        "print(outlier_ratio_check(group1, \"Group 1\"))\n",
        "\n",
        "# Running related test:\n",
        "t_stat, p_bilateral = ttest_1samp(group1, popmean=135)\n",
        "\n",
        "alpha = 0.05\n",
        "\n",
        "if p_bilateral < alpha:\n",
        "    result = \"Reject the null hypothesis.\"\n",
        "else:\n",
        "    result = \"Fail to reject the null hypothesis.\"\n",
        "\n",
        "print(f\"Statistic: {t_stat}, p-value: {p_bilateral}\")\n",
        "print(result)"
      ],
      "metadata": {
        "colab": {
          "base_uri": "https://localhost:8080/"
        },
        "id": "LAJ2TSNDpL_x",
        "outputId": "6572cccd-34be-467c-e9c7-898fe1c9cad9"
      },
      "execution_count": 26,
      "outputs": [
        {
          "output_type": "stream",
          "name": "stdout",
          "text": [
            "Group 1 does have a normal distribution.\n",
            "Outlier ratio for Group 1: 0.00%.\n",
            "Statistic: -0.14978461698161274, p-value: 0.8815030982862501\n",
            "Fail to reject the null hypothesis.\n"
          ]
        }
      ]
    },
    {
      "cell_type": "code",
      "source": [
        "# Ex. 8\n",
        "\n",
        "group1 = df[(df['sexo'] == 'F') & (df['peso'] < 60)]['hdl_antes']\n",
        "group2 = df[(df['sexo'] == 'F') & (df['peso'] < 60)]['hdl_depois']\n",
        "\n",
        "# Checking normality:\n",
        "print(normality_result(\"Group 1\", group1))\n",
        "print(normality_result(\"Group 2\", group2))\n",
        "\n",
        "# Checking outliers\n",
        "print(outlier_ratio_check(group1, \"Group 1\"))\n",
        "print(outlier_ratio_check(group2, \"Group 2\"))\n",
        "\n",
        "# Running related test:\n",
        "t_stat, p_bilateral = ttest_rel(group2, group1)\n",
        "p_side = p_bilateral / 2 if t_stat < 0 else 1 - p_bilateral / 2\n",
        "\n",
        "alpha = 0.05\n",
        "\n",
        "if p_side < alpha:\n",
        "    result = \"Reject the null hypothesis.\"\n",
        "else:\n",
        "    result = \"Fail to reject the null hypothesis.\"\n",
        "\n",
        "print(f\"Statistic: {t_stat}, p-value: {p_side}\")\n",
        "print(result)"
      ],
      "metadata": {
        "colab": {
          "base_uri": "https://localhost:8080/"
        },
        "id": "OCAlh74Hpcm3",
        "outputId": "f8c5a773-d77b-4798-a44f-7cd5075ce22d"
      },
      "execution_count": 27,
      "outputs": [
        {
          "output_type": "stream",
          "name": "stdout",
          "text": [
            "Group 1 does have a normal distribution.\n",
            "Group 2 does have a normal distribution.\n",
            "Outlier ratio for Group 1: 0.00%.\n",
            "Outlier ratio for Group 2: 0.00%.\n",
            "Statistic: 1.619963410461149, p-value: 0.93954930861297\n",
            "Fail to reject the null hypothesis.\n"
          ]
        }
      ]
    },
    {
      "cell_type": "code",
      "source": [
        "# Ex. 9\n",
        "\n",
        "group1 = df[df['idade'] < 40]['ldl_depois']\n",
        "group2 = df[df['idade'] >= 40]['ldl_depois']\n",
        "\n",
        "# Checking normality:\n",
        "print(normality_result(\"Group 1\", group1))\n",
        "print(normality_result(\"Group 2\", group2))\n",
        "\n",
        "# Checking outliers\n",
        "print(outlier_ratio_check(group1, \"Group 1\"))\n",
        "print(outlier_ratio_check(group2, \"Group 2\"))\n",
        "\n",
        "# Checking variance:\n",
        "print(variance_result(group1, group2))\n",
        "\n",
        "# Running related test:\n",
        "t_stat, p_bilateral = ttest_ind(group2, group1)\n",
        "\n",
        "alpha = 0.05\n",
        "\n",
        "if p_bilateral < alpha:\n",
        "    result = \"Reject the null hypothesis.\"\n",
        "else:\n",
        "    result = \"Fail to reject the null hypothesis.\"\n",
        "\n",
        "print(f\"Statistic: {t_stat}, p-value: {p_bilateral}\")\n",
        "print(result)"
      ],
      "metadata": {
        "colab": {
          "base_uri": "https://localhost:8080/"
        },
        "id": "KEY89E-utr8b",
        "outputId": "8e97f580-560a-464e-fc74-4e33760d24aa"
      },
      "execution_count": 28,
      "outputs": [
        {
          "output_type": "stream",
          "name": "stdout",
          "text": [
            "Group 1 does have a normal distribution.\n",
            "Group 2 does have a normal distribution.\n",
            "Outlier ratio for Group 1: 0.00%.\n",
            "Outlier ratio for Group 2: 0.71%.\n",
            "The groups are homoscedastic.\n",
            "Statistic: -0.8399650303100675, p-value: 0.401941090504198\n",
            "Fail to reject the null hypothesis.\n"
          ]
        }
      ]
    },
    {
      "cell_type": "code",
      "source": [
        "# Ex. 10\n",
        "\n",
        "group1 = df[df['altura'] > 1.80]['hdl_antes']\n",
        "\n",
        "# Checking normality:\n",
        "print(normality_result(\"Group 1\", group1))\n",
        "\n",
        "# Checking outliers\n",
        "print(outlier_ratio_check(group1, \"Group 1\"))\n",
        "\n",
        "# Running related test:\n",
        "t_stat, p_bilateral = ttest_1samp(group1, popmean=50)\n",
        "\n",
        "alpha = 0.05\n",
        "\n",
        "if p_bilateral < alpha:\n",
        "    result = \"Reject the null hypothesis.\"\n",
        "else:\n",
        "    result = \"Fail to reject the null hypothesis.\"\n",
        "\n",
        "print(f\"Statistic: {t_stat}, p-value: {p_bilateral}\")\n",
        "print(result)"
      ],
      "metadata": {
        "colab": {
          "base_uri": "https://localhost:8080/"
        },
        "id": "_AAPzex8uBPs",
        "outputId": "ae63baf2-e9ca-4962-97ca-34ad96c389dd"
      },
      "execution_count": 29,
      "outputs": [
        {
          "output_type": "stream",
          "name": "stdout",
          "text": [
            "Group 1 does have a normal distribution.\n",
            "Outlier ratio for Group 1: 0.00%.\n",
            "Statistic: -0.17895922555799065, p-value: 0.8596850575521344\n",
            "Fail to reject the null hypothesis.\n"
          ]
        }
      ]
    }
  ]
}