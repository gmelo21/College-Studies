{
  "nbformat": 4,
  "nbformat_minor": 0,
  "metadata": {
    "colab": {
      "provenance": []
    },
    "kernelspec": {
      "name": "python3",
      "display_name": "Python 3"
    },
    "language_info": {
      "name": "python"
    }
  },
  "cells": [
    {
      "cell_type": "code",
      "execution_count": 11,
      "metadata": {
        "colab": {
          "base_uri": "https://localhost:8080/"
        },
        "id": "-lrR_z8uOnTZ",
        "outputId": "3b27ab3d-f7ba-4d0a-c795-67b8157895b4"
      },
      "outputs": [
        {
          "output_type": "stream",
          "name": "stdout",
          "text": [
            "Total: 1214 values within limits. 1 values out of limits. (Total: 1215)\n",
            "HP: 1188 values within limits. 27 values out of limits. (Total: 1215)\n",
            "Attack: 1202 values within limits. 13 values out of limits. (Total: 1215)\n",
            "Defense: 1190 values within limits. 25 values out of limits. (Total: 1215)\n",
            "SP. Atk.: 1202 values within limits. 13 values out of limits. (Total: 1215)\n",
            "SP. Def: 1200 values within limits. 15 values out of limits. (Total: 1215)\n",
            "Speed: 1212 values within limits. 3 values out of limits. (Total: 1215)\n"
          ]
        }
      ],
      "source": [
        "import pandas as pd\n",
        "\n",
        "df = pd.read_csv(\"pokedex.csv\")\n",
        "stat_columns = ['Total', 'HP', 'Attack', 'Defense', 'SP. Atk.', 'SP. Def', 'Speed']\n",
        "\n",
        "stats_within_limits = {}\n",
        "\n",
        "for stat in stat_columns:\n",
        "    Q1 = df[stat].quantile(0.25)\n",
        "    Q3 = df[stat].quantile(0.75)\n",
        "    IQR = Q3 - Q1\n",
        "\n",
        "    lower_limit = Q1 - 1.5 * IQR\n",
        "    upper_limit = Q3 + 1.5 * IQR\n",
        "\n",
        "    count_within_limits = df[(df[stat] > lower_limit) & (df[stat] < upper_limit)].shape[0]\n",
        "\n",
        "    stats_within_limits[stat] = count_within_limits\n",
        "\n",
        "    total_values = df[stat].count()\n",
        "\n",
        "for stat, count in stats_within_limits.items():\n",
        "    print(f\"{stat}: {count} values within limits. {total_values - count} values out of limits. (Total: {total_values})\")\n"
      ]
    }
  ]
}