{
  "nbformat": 4,
  "nbformat_minor": 0,
  "metadata": {
    "colab": {
      "provenance": []
    },
    "kernelspec": {
      "name": "python3",
      "display_name": "Python 3"
    },
    "language_info": {
      "name": "python"
    }
  },
  "cells": [
    {
      "cell_type": "code",
      "execution_count": 40,
      "metadata": {
        "id": "6PEYMKm0Wu1g"
      },
      "outputs": [],
      "source": [
        "import pandas as pd\n",
        "from scipy.stats import ttest_ind, ttest_rel, ttest_1samp, f_oneway, shapiro, levene\n",
        "\n",
        "# Load datasets\n",
        "df1 = pd.read_csv(\"Ex1.csv\")\n",
        "df2 = pd.read_csv(\"Ex2.csv\")\n",
        "df3 = pd.read_csv(\"Ex3.csv\")\n",
        "df4 = pd.read_csv(\"Ex4.csv\")"
      ]
    },
    {
      "cell_type": "code",
      "source": [
        "# Shapiro function\n",
        "\n",
        "def normality_result(group_name, group, alpha=0.05):\n",
        "    stat, p = shapiro(group)\n",
        "    if p < alpha:\n",
        "        return f\"{group_name} does not have a normal distribution.\"\n",
        "    else:\n",
        "        return f\"{group_name} does have a normal distribution.\""
      ],
      "metadata": {
        "id": "FXfDpGsEV5e_"
      },
      "execution_count": 41,
      "outputs": []
    },
    {
      "cell_type": "code",
      "source": [
        "# Outlier function\n",
        "\n",
        "def outlier_ratio_check(group, group_name, alpha=0.05):\n",
        "    group = group.dropna()\n",
        "    Q1 = group.quantile(0.25)\n",
        "    Q3 = group.quantile(0.75)\n",
        "    IQR = Q3 - Q1\n",
        "    lower_bound = Q1 - 1.5 * IQR\n",
        "    upper_bound = Q3 + 1.5 * IQR\n",
        "\n",
        "    outliers = group[(group < lower_bound) | (group > upper_bound)]\n",
        "    ratio = len(outliers) / len(group)\n",
        "\n",
        "    return f\"Outlier ratio for {group_name}: {ratio:.2%}.\""
      ],
      "metadata": {
        "id": "P62WO46MV6cK"
      },
      "execution_count": 42,
      "outputs": []
    },
    {
      "cell_type": "code",
      "source": [
        "# Levene function\n",
        "\n",
        "def variance_result(group1, group2, alpha=0.05):\n",
        "    stat, p = levene(group1, group2)\n",
        "    if p < alpha:\n",
        "        return f\"The groups are not homoscedastic.\"\n",
        "    else:\n",
        "        return f\"The groups are homoscedastic.\""
      ],
      "metadata": {
        "id": "ceFu6NIcV9Ca"
      },
      "execution_count": 43,
      "outputs": []
    },
    {
      "cell_type": "code",
      "source": [
        "# Ex. 1\n",
        "\n",
        "group1 = df1[df1[\"Turma\"] == \"A\"][\"Nota\"]\n",
        "group2 = df1[df1[\"Turma\"] == \"B\"][\"Nota\"]\n",
        "\n",
        "# Checking normality:\n",
        "print(normality_result(\"Group 1\", group1))\n",
        "print(normality_result(\"Group 2\", group2))\n",
        "\n",
        "# Checking outliers\n",
        "print(outlier_ratio_check(group1, \"Group 1\"))\n",
        "print(outlier_ratio_check(group2, \"Group 2\"))\n",
        "\n",
        "# Checking variance:\n",
        "print(variance_result(group1, group2))\n",
        "\n",
        "# Running related test:\n",
        "t, p = ttest_ind(group1, group2)\n",
        "p = p / 2 if t < 0 else 1 - p / 2\n",
        "\n",
        "alpha = 0.05\n",
        "\n",
        "if p < alpha:\n",
        "    result = \"Reject the null hypothesis.\"\n",
        "else:\n",
        "    result = \"Fail to reject the null hypothesis.\"\n",
        "\n",
        "print(f\"Statistic: {t}, p-value: {p}\")\n",
        "print(result)"
      ],
      "metadata": {
        "colab": {
          "base_uri": "https://localhost:8080/"
        },
        "id": "NF4kmCw8VfL3",
        "outputId": "5167bb0f-3364-454e-d4bd-0a94c3c54575"
      },
      "execution_count": 44,
      "outputs": [
        {
          "output_type": "stream",
          "name": "stdout",
          "text": [
            "Group 1 does have a normal distribution.\n",
            "Group 2 does have a normal distribution.\n",
            "Outlier ratio for Group 1: 0.00%.\n",
            "Outlier ratio for Group 2: 0.00%.\n",
            "The groups are homoscedastic.\n",
            "Statistic: 2.25444062957182, p-value: 0.9860197465538326\n",
            "Fail to reject the null hypothesis.\n"
          ]
        }
      ]
    },
    {
      "cell_type": "code",
      "source": [
        "# Ex. 2\n",
        "\n",
        "group1 = df2[\"Antes\"]\n",
        "group2 = df2[\"Depois\"]\n",
        "\n",
        "# Checking normality:\n",
        "print(normality_result(\"Group 1\", group1))\n",
        "print(normality_result(\"Group 2\", group2))\n",
        "\n",
        "# Checking outliers\n",
        "print(outlier_ratio_check(group1, \"Group 1\"))\n",
        "print(outlier_ratio_check(group2, \"Group 2\"))\n",
        "\n",
        "# Running related test:\n",
        "t, p = ttest_rel(group1, group2)\n",
        "p = p / 2 if t < 0 else 1 - p / 2\n",
        "\n",
        "alpha = 0.05\n",
        "\n",
        "if p < alpha:\n",
        "    result = \"Reject the null hypothesis.\"\n",
        "else:\n",
        "    result = \"Fail to reject the null hypothesis.\"\n",
        "\n",
        "print(f\"Statistic: {t}, p-value: {p}\")\n",
        "print(result)"
      ],
      "metadata": {
        "colab": {
          "base_uri": "https://localhost:8080/"
        },
        "id": "_jlCxUbNViBH",
        "outputId": "6af41e47-cdaf-461d-8eff-d19f0b7cd55a"
      },
      "execution_count": 45,
      "outputs": [
        {
          "output_type": "stream",
          "name": "stdout",
          "text": [
            "Group 1 does have a normal distribution.\n",
            "Group 2 does have a normal distribution.\n",
            "Outlier ratio for Group 1: 4.00%.\n",
            "Outlier ratio for Group 2: 0.00%.\n",
            "Statistic: -16.955329756648446, p-value: 3.661236668369023e-15\n",
            "Reject the null hypothesis.\n"
          ]
        }
      ]
    },
    {
      "cell_type": "code",
      "source": [
        "# Ex. 3\n",
        "\n",
        "group1 = df3[df3[\"Setor\"] == \"RH\"][\"Estresse\"]\n",
        "group2 = df3[df3[\"Setor\"] == \"TI\"][\"Estresse\"]\n",
        "\n",
        "# Checking normality:\n",
        "print(normality_result(\"Group 1\", group1))\n",
        "print(normality_result(\"Group 2\", group2))\n",
        "\n",
        "# Checking outliers\n",
        "print(outlier_ratio_check(group1, \"Group 1\"))\n",
        "print(outlier_ratio_check(group2, \"Group 2\"))\n",
        "\n",
        "# Checking variance:\n",
        "print(variance_result(group1, group2))\n",
        "\n",
        "# Running related test:\n",
        "t, p = ttest_ind(group1, group2)\n",
        "\n",
        "alpha = 0.05\n",
        "\n",
        "if p < alpha:\n",
        "    result = \"Reject the null hypothesis.\"\n",
        "else:\n",
        "    result = \"Fail to reject the null hypothesis.\"\n",
        "\n",
        "print(f\"Statistic: {t}, p-value: {p}\")\n",
        "print(result)"
      ],
      "metadata": {
        "colab": {
          "base_uri": "https://localhost:8080/"
        },
        "id": "YsAkDrG-Vjfw",
        "outputId": "bd8e4c03-d436-4e1e-ed35-d4936c74a9ac"
      },
      "execution_count": 46,
      "outputs": [
        {
          "output_type": "stream",
          "name": "stdout",
          "text": [
            "Group 1 does have a normal distribution.\n",
            "Group 2 does have a normal distribution.\n",
            "Outlier ratio for Group 1: 0.00%.\n",
            "Outlier ratio for Group 2: 0.00%.\n",
            "The groups are homoscedastic.\n",
            "Statistic: -2.4687650841812756, p-value: 0.01607631180497714\n",
            "Reject the null hypothesis.\n"
          ]
        }
      ]
    },
    {
      "cell_type": "code",
      "source": [
        "# Ex. 4\n",
        "\n",
        "group1 = df4[\"Tempo_Espera\"]\n",
        "\n",
        "# Checking normality:\n",
        "print(normality_result(\"Group 1\", group1))\n",
        "\n",
        "# Checking outliers\n",
        "print(outlier_ratio_check(group1, \"Group 1\"))\n",
        "\n",
        "# Running related test:\n",
        "t, p = ttest_1samp(group1, popmean=15)\n",
        "\n",
        "alpha = 0.05\n",
        "\n",
        "if p < alpha:\n",
        "    result = \"Reject the null hypothesis.\"\n",
        "else:\n",
        "    result = \"Fail to reject the null hypothesis.\"\n",
        "\n",
        "print(f\"Statistic: {t}, p-value: {p}\")\n",
        "print(result)"
      ],
      "metadata": {
        "colab": {
          "base_uri": "https://localhost:8080/"
        },
        "id": "NLy4x-XqVlOe",
        "outputId": "b391971d-547c-45c8-f7c6-2b5bb27de0a1"
      },
      "execution_count": 47,
      "outputs": [
        {
          "output_type": "stream",
          "name": "stdout",
          "text": [
            "Group 1 does not have a normal distribution.\n",
            "Outlier ratio for Group 1: 2.50%.\n",
            "Statistic: 3.8515611570103028, p-value: 0.00042567755539783337\n",
            "Reject the null hypothesis.\n"
          ]
        }
      ]
    }
  ]
}