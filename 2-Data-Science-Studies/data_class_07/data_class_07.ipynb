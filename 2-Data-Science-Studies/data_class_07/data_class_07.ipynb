{
  "nbformat": 4,
  "nbformat_minor": 0,
  "metadata": {
    "colab": {
      "provenance": []
    },
    "kernelspec": {
      "name": "python3",
      "display_name": "Python 3"
    },
    "language_info": {
      "name": "python"
    }
  },
  "cells": [
    {
      "cell_type": "code",
      "execution_count": 1,
      "metadata": {
        "id": "zUefc9OSPRaM"
      },
      "outputs": [],
      "source": [
        "import pandas as pd\n",
        "from scipy.stats import ttest_ind, ttest_rel, ttest_1samp"
      ]
    },
    {
      "cell_type": "code",
      "source": [
        "# Ex. 1\n",
        "df = pd.read_csv('Ex1.csv')\n",
        "\n",
        "class_a = df[df['Turma'] == 'A']['Nota']\n",
        "class_b = df[df['Turma'] == 'B']['Nota']\n",
        "\n",
        "t_stat, p_bilateral = ttest_ind(class_a, class_b)\n",
        "p_side = p_bilateral / 2 if t_stat < 0 else 1 - p_bilateral / 2\n",
        "\n",
        "alpha = 0.05\n",
        "if p_side < alpha:\n",
        "    result = \"Reject the null hypothesis: Class B performed better.\"\n",
        "else:\n",
        "    result = \"Fail to reject the null hypothesis.\"\n",
        "\n",
        "print(f\"Statistic: {t_stat}, p-value: {p_side}\")\n",
        "print(result)"
      ],
      "metadata": {
        "colab": {
          "base_uri": "https://localhost:8080/"
        },
        "id": "VchU4x8hTSaH",
        "outputId": "63aa04bd-7a22-4a29-d181-1191989e6d69"
      },
      "execution_count": null,
      "outputs": [
        {
          "output_type": "stream",
          "name": "stdout",
          "text": [
            "Statistic: 2.25444062957182, p-value: 0.9860197465538326\n",
            "Fail to reject the null hypothesis: No evidence Class B performed better.\n"
          ]
        }
      ]
    },
    {
      "cell_type": "code",
      "source": [
        "# Ex. 2\n",
        "df = pd.read_csv('Ex2.csv')\n",
        "\n",
        "before = df['Antes']\n",
        "after = df['Depois']\n",
        "\n",
        "t_stat, p_bilateral = ttest_rel(before, after)\n",
        "p_side = p_bilateral / 2 if t_stat < 0 else 1 - p_bilateral / 2\n",
        "\n",
        "alpha = 0.05\n",
        "if p_side < alpha:\n",
        "    result = \"Reject the null hypothesis.\"\n",
        "else:\n",
        "    result = \"Fail to reject the null hypothesis.\"\n",
        "\n",
        "print(f\"Statistic: {t_stat}, p-value: {p_side}\")\n",
        "print(result)"
      ],
      "metadata": {
        "colab": {
          "base_uri": "https://localhost:8080/"
        },
        "id": "ZojxSpa5UONC",
        "outputId": "0070a236-de36-4e4f-8d84-9b33b9f64096"
      },
      "execution_count": null,
      "outputs": [
        {
          "output_type": "stream",
          "name": "stdout",
          "text": [
            "Statistic: -16.955329756648446, p-value: 3.661236668369023e-15\n",
            "Reject the null hypothesis.\n"
          ]
        }
      ]
    },
    {
      "cell_type": "code",
      "source": [
        "# Ex. 3\n",
        "df = pd.read_csv('Ex3.csv')\n",
        "\n",
        "RH = df[df['Setor'] == 'RH']['Estresse']\n",
        "TI = df[df['Setor'] == 'TI']['Estresse']\n",
        "\n",
        "t_stat, p_bilateral = ttest_ind(RH, TI)\n",
        "\n",
        "alpha = 0.05\n",
        "if p_bilateral < alpha:\n",
        "    result = \"Reject the null hypothesis.\"\n",
        "else:\n",
        "    result = \"Fail to reject the null hypothesis.\"\n",
        "\n",
        "print(f\"Statistic: {t_stat}, p-value: {p_bilateral}\")\n",
        "print(result)"
      ],
      "metadata": {
        "colab": {
          "base_uri": "https://localhost:8080/"
        },
        "id": "-s2PtLolY0HR",
        "outputId": "f526573e-2f43-4485-c5a2-8ac033ce9f01"
      },
      "execution_count": null,
      "outputs": [
        {
          "output_type": "stream",
          "name": "stdout",
          "text": [
            "Statistic: -2.4687650841812756, p-value: 0.01607631180497714\n",
            "Reject the null hypothesis.\n"
          ]
        }
      ]
    },
    {
      "cell_type": "code",
      "source": [
        "# Ex. 4\n",
        "df = pd.read_csv('Ex4.csv')\n",
        "\n",
        "waiting_time = df[\"Tempo_Espera\"]\n",
        "\n",
        "t_stat, p_bilateral = ttest_1samp(waiting_time, popmean=15)\n",
        "\n",
        "alpha = 0.05\n",
        "if p_bilateral < alpha:\n",
        "    result = \"Reject the null hypothesis.\"\n",
        "else:\n",
        "    result = \"Fail to reject the null hypothesis.\"\n",
        "\n",
        "print(f\"Statistic: {t_stat}, p-value: {p_bilateral}\")\n",
        "print(result)"
      ],
      "metadata": {
        "colab": {
          "base_uri": "https://localhost:8080/"
        },
        "id": "6VZIuJjgZfix",
        "outputId": "c23b79ef-5bb8-42e2-f586-bb80d2a9cb3b"
      },
      "execution_count": null,
      "outputs": [
        {
          "output_type": "stream",
          "name": "stdout",
          "text": [
            "Statistic: 3.8515611570103028, p-value: 0.00042567755539783337\n",
            "Reject the null hypothesis.\n"
          ]
        }
      ]
    },
    {
      "cell_type": "code",
      "source": [
        "# Ex. 5\n",
        "df = pd.read_csv('Ex5.csv')\n",
        "\n",
        "grade_a = df[df['grupo'] == 'A']['nota']\n",
        "grade_b = df[df['grupo'] == 'B']['nota']\n",
        "\n",
        "t_stat, p_bilateral = ttest_ind(grade_a, grade_b)\n",
        "\n",
        "alpha = 0.05\n",
        "if p_side < alpha:\n",
        "    result = \"Reject the null hypothesis.\"\n",
        "else:\n",
        "    result = \"Fail to reject the null hypothesis.\"\n",
        "\n",
        "print(f\"Statistic: {t_stat}, p-value: {p_bilateral}\")\n",
        "print(result)"
      ],
      "metadata": {
        "colab": {
          "base_uri": "https://localhost:8080/"
        },
        "id": "-F6Bovy-bkEM",
        "outputId": "2f50ef9b-2f69-4a85-a3d3-ed87d70a7bfb"
      },
      "execution_count": null,
      "outputs": [
        {
          "output_type": "stream",
          "name": "stdout",
          "text": [
            "Statistic: -3.2164507602036045, p-value: 0.0018901743437198144\n",
            "Reject the null hypothesis.\n"
          ]
        }
      ]
    },
    {
      "cell_type": "code",
      "source": [
        "# Ex. 6\n",
        "df = pd.read_csv('Ex6.csv')\n",
        "\n",
        "before = df['antes']\n",
        "after = df['depois']\n",
        "\n",
        "t_stat, p_bilateral = ttest_rel(before, after)\n",
        "p_side = p_bilateral / 2 if t_stat > 0 else 1 - p_bilateral / 2\n",
        "\n",
        "alpha = 0.05\n",
        "if p_side < alpha:\n",
        "    result = \"Reject the null hypothesis.\"\n",
        "else:\n",
        "    result = \"Fail to reject the null hypothesis.\"\n",
        "\n",
        "print(f\"Statistic: {t_stat}, p-value: {p_side}\")\n",
        "print(result)"
      ],
      "metadata": {
        "colab": {
          "base_uri": "https://localhost:8080/"
        },
        "id": "nINcTOkrcYU1",
        "outputId": "ae76b7b1-87ff-4631-ab09-72738f59b1e1"
      },
      "execution_count": null,
      "outputs": [
        {
          "output_type": "stream",
          "name": "stdout",
          "text": [
            "Statistic: -7.321944050512552, p-value: 0.9999999770755208\n",
            "Fail to reject the null hypothesis.\n"
          ]
        }
      ]
    },
    {
      "cell_type": "code",
      "source": [
        "# Ex. 7\n",
        "df = pd.read_csv('Ex7.csv')\n",
        "\n",
        "salary = df[\"salario\"]\n",
        "\n",
        "t_stat, p_bilateral = ttest_1samp(salary, popmean=5000)\n",
        "\n",
        "alpha = 0.05\n",
        "if p_bilateral < alpha:\n",
        "    result = \"Reject the null hypothesis.\"\n",
        "else:\n",
        "    result = \"Fail to reject the null hypothesis.\"\n",
        "\n",
        "print(f\"Statistic: {t_stat}, p-value: {p_bilateral}\")\n",
        "print(result)"
      ],
      "metadata": {
        "colab": {
          "base_uri": "https://localhost:8080/"
        },
        "id": "E4hEJ1QweMLb",
        "outputId": "7ff24edc-7ed2-4ea1-e0b7-4e5a011f6508"
      },
      "execution_count": null,
      "outputs": [
        {
          "output_type": "stream",
          "name": "stdout",
          "text": [
            "Statistic: 3.8588247275813177, p-value: 0.0003333337525545667\n",
            "Reject the null hypothesis.\n"
          ]
        }
      ]
    },
    {
      "cell_type": "code",
      "source": [
        "# Ex. 8\n",
        "df = pd.read_csv('Ex8.csv')\n",
        "\n",
        "grade_c = df[df['grupo'] == 'C']['tempo_execucao']\n",
        "grade_d = df[df['grupo'] == 'D']['tempo_execucao']\n",
        "\n",
        "t_stat, p_bilateral = ttest_ind(grade_c, grade_d)\n",
        "\n",
        "alpha = 0.05\n",
        "if p_side < alpha:\n",
        "    result = \"Reject the null hypothesis.\"\n",
        "else:\n",
        "    result = \"Fail to reject the null hypothesis.\"\n",
        "\n",
        "print(f\"Statistic: {t_stat}, p-value: {p_bilateral}\")\n",
        "print(result)"
      ],
      "metadata": {
        "colab": {
          "base_uri": "https://localhost:8080/"
        },
        "id": "gGw1eo5PfC05",
        "outputId": "7936ae78-d36c-46ac-c813-c991e80e76a2"
      },
      "execution_count": null,
      "outputs": [
        {
          "output_type": "stream",
          "name": "stdout",
          "text": [
            "Statistic: 0.5640468684049547, p-value: 0.5740108227689483\n",
            "Fail to reject the null hypothesis.\n"
          ]
        }
      ]
    }
  ]
}